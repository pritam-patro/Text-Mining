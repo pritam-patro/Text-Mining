{
 "cells": [
  {
   "cell_type": "code",
   "execution_count": 1,
   "id": "b1e2dd3e",
   "metadata": {},
   "outputs": [
    {
     "name": "stdout",
     "output_type": "stream",
     "text": [
      "Requirement already satisfied: nltk in c:\\users\\91630\\anaconda3\\lib\\site-packages (3.7)\n",
      "Requirement already satisfied: joblib in c:\\users\\91630\\anaconda3\\lib\\site-packages (from nltk) (1.1.0)\n",
      "Requirement already satisfied: regex>=2021.8.3 in c:\\users\\91630\\anaconda3\\lib\\site-packages (from nltk) (2022.7.9)\n",
      "Requirement already satisfied: click in c:\\users\\91630\\anaconda3\\lib\\site-packages (from nltk) (8.0.4)\n",
      "Requirement already satisfied: tqdm in c:\\users\\91630\\anaconda3\\lib\\site-packages (from nltk) (4.64.1)\n",
      "Requirement already satisfied: colorama in c:\\users\\91630\\anaconda3\\lib\\site-packages (from click->nltk) (0.4.5)\n",
      "Note: you may need to restart the kernel to use updated packages.\n"
     ]
    }
   ],
   "source": [
    "pip install nltk"
   ]
  },
  {
   "cell_type": "code",
   "execution_count": 7,
   "id": "05dc4fa6",
   "metadata": {},
   "outputs": [
    {
     "name": "stdout",
     "output_type": "stream",
     "text": [
      "showing info https://raw.githubusercontent.com/nltk/nltk_data/gh-pages/index.xml\n"
     ]
    },
    {
     "data": {
      "text/plain": [
       "True"
      ]
     },
     "execution_count": 7,
     "metadata": {},
     "output_type": "execute_result"
    }
   ],
   "source": [
    "import nltk\n",
    "nltk.download()\n"
   ]
  },
  {
   "cell_type": "code",
   "execution_count": 9,
   "id": "b6e8f65c",
   "metadata": {},
   "outputs": [
    {
     "name": "stderr",
     "output_type": "stream",
     "text": [
      "[nltk_data] Downloading package punkt to\n",
      "[nltk_data]     C:\\Users\\91630\\AppData\\Roaming\\nltk_data...\n",
      "[nltk_data]   Unzipping tokenizers\\punkt.zip.\n"
     ]
    },
    {
     "data": {
      "text/plain": [
       "True"
      ]
     },
     "execution_count": 9,
     "metadata": {},
     "output_type": "execute_result"
    }
   ],
   "source": [
    "import nltk\n",
    "nltk.download('punkt')\n"
   ]
  },
  {
   "cell_type": "markdown",
   "id": "c7620276",
   "metadata": {},
   "source": [
    "# Stemming Methods"
   ]
  },
  {
   "cell_type": "markdown",
   "id": "60b10160",
   "metadata": {},
   "source": [
    "Snowball Stemmer"
   ]
  },
  {
   "cell_type": "code",
   "execution_count": 10,
   "id": "76884287",
   "metadata": {
    "scrolled": true
   },
   "outputs": [
    {
     "name": "stdout",
     "output_type": "stream",
     "text": [
      "Natural becomes natur\n",
      "language becomes languag\n",
      "processing becomes process\n",
      "is becomes is\n",
      "a becomes a\n",
      "field becomes field\n",
      "of becomes of\n",
      "artificial becomes artifici\n",
      "intelligence becomes intellig\n",
      "that becomes that\n",
      "focuses becomes focus\n",
      "on becomes on\n",
      "the becomes the\n",
      "interaction becomes interact\n",
      "between becomes between\n",
      "computers becomes comput\n",
      "and becomes and\n",
      "humans becomes human\n",
      "using becomes use\n",
      "natural becomes natur\n",
      "language becomes languag\n",
      ". becomes .\n"
     ]
    },
    {
     "name": "stderr",
     "output_type": "stream",
     "text": [
      "[nltk_data] Downloading package punkt to\n",
      "[nltk_data]     C:\\Users\\91630\\AppData\\Roaming\\nltk_data...\n",
      "[nltk_data]   Package punkt is already up-to-date!\n"
     ]
    }
   ],
   "source": [
    "import nltk\n",
    "from nltk.stem import SnowballStemmer\n",
    "\n",
    "nltk.download('punkt')\n",
    "\n",
    "def snowball_stemming(paragraph):\n",
    "    stemmer = SnowballStemmer(\"english\")\n",
    "    words = nltk.word_tokenize(paragraph)\n",
    "    for word in words:\n",
    "        stemmed_word = stemmer.stem(word)\n",
    "        print(f\"{word} becomes {stemmed_word}\")\n",
    "\n",
    "p1 = \"Natural language processing is a field of artificial intelligence that focuses on the interaction between computers and humans using natural language.\"\n",
    "\n",
    "snowball_stemming(p1)\n"
   ]
  },
  {
   "cell_type": "markdown",
   "id": "c93cfae3",
   "metadata": {},
   "source": [
    "PorterStemmer"
   ]
  },
  {
   "cell_type": "code",
   "execution_count": 12,
   "id": "207212cb",
   "metadata": {},
   "outputs": [
    {
     "name": "stdout",
     "output_type": "stream",
     "text": [
      "Natural becomes natur\n",
      "language becomes languag\n",
      "processing becomes process\n",
      "is becomes is\n",
      "a becomes a\n",
      "field becomes field\n",
      "of becomes of\n",
      "artificial becomes artifici\n",
      "intelligence becomes intellig\n",
      "that becomes that\n",
      "focuses becomes focus\n",
      "on becomes on\n",
      "the becomes the\n",
      "interaction becomes interact\n",
      "between becomes between\n",
      "computers becomes comput\n",
      "and becomes and\n",
      "humans becomes human\n",
      "using becomes use\n",
      "natural becomes natur\n",
      "language becomes languag\n",
      ". becomes .\n"
     ]
    },
    {
     "name": "stderr",
     "output_type": "stream",
     "text": [
      "[nltk_data] Downloading package punkt to\n",
      "[nltk_data]     C:\\Users\\91630\\AppData\\Roaming\\nltk_data...\n",
      "[nltk_data]   Package punkt is already up-to-date!\n"
     ]
    }
   ],
   "source": [
    "import nltk\n",
    "from nltk.stem import PorterStemmer\n",
    "\n",
    "nltk.download('punkt')\n",
    "\n",
    "def porter_stemming(paragraph):\n",
    "    stemmer = PorterStemmer()\n",
    "    words = nltk.word_tokenize(paragraph)\n",
    "    for word in words:\n",
    "        stemmed_word = stemmer.stem(word)\n",
    "        print(f\"{word} becomes {stemmed_word}\")\n",
    "\n",
    "p1 = \"Natural language processing is a field of artificial intelligence that focuses on the interaction between computers and humans using natural language.\"\n",
    "\n",
    "porter_stemming(p1)"
   ]
  },
  {
   "cell_type": "markdown",
   "id": "8221efeb",
   "metadata": {},
   "source": [
    "LancasterStemmer"
   ]
  },
  {
   "cell_type": "code",
   "execution_count": 14,
   "id": "55f1a368",
   "metadata": {},
   "outputs": [
    {
     "name": "stdout",
     "output_type": "stream",
     "text": [
      "Natural becomes nat\n",
      "language becomes langu\n",
      "processing becomes process\n",
      "is becomes is\n",
      "a becomes a\n",
      "field becomes field\n",
      "of becomes of\n",
      "artificial becomes art\n",
      "intelligence becomes intellig\n",
      "that becomes that\n",
      "focuses becomes focus\n",
      "on becomes on\n",
      "the becomes the\n",
      "interaction becomes interact\n",
      "between becomes between\n",
      "computers becomes comput\n",
      "and becomes and\n",
      "humans becomes hum\n",
      "using becomes us\n",
      "natural becomes nat\n",
      "language becomes langu\n",
      ". becomes .\n"
     ]
    },
    {
     "name": "stderr",
     "output_type": "stream",
     "text": [
      "[nltk_data] Downloading package punkt to\n",
      "[nltk_data]     C:\\Users\\91630\\AppData\\Roaming\\nltk_data...\n",
      "[nltk_data]   Package punkt is already up-to-date!\n"
     ]
    }
   ],
   "source": [
    "import nltk\n",
    "from nltk.stem import LancasterStemmer\n",
    "\n",
    "nltk.download('punkt')\n",
    "\n",
    "def lancaster_stemming(paragraph):\n",
    "    stemmer = LancasterStemmer()\n",
    "    words = nltk.word_tokenize(paragraph)\n",
    "    for word in words:\n",
    "        stemmed_word = stemmer.stem(word)\n",
    "        print(f\"{word} becomes {stemmed_word}\")\n",
    "\n",
    "p1 = \"Natural language processing is a field of artificial intelligence that focuses on the interaction between computers and humans using natural language.\"\n",
    "\n",
    "lancaster_stemming(p1)"
   ]
  },
  {
   "cell_type": "code",
   "execution_count": 15,
   "id": "02ea846d",
   "metadata": {},
   "outputs": [
    {
     "name": "stdout",
     "output_type": "stream",
     "text": [
      "Requirement already satisfied: scipy in c:\\users\\91630\\anaconda3\\lib\\site-packages (1.9.1)Note: you may need to restart the kernel to use updated packages.\n",
      "\n",
      "Requirement already satisfied: numpy<1.25.0,>=1.18.5 in c:\\users\\91630\\anaconda3\\lib\\site-packages (from scipy) (1.21.5)\n"
     ]
    }
   ],
   "source": [
    "pip  install scipy"
   ]
  },
  {
   "cell_type": "code",
   "execution_count": 36,
   "id": "f2f456fd",
   "metadata": {},
   "outputs": [
    {
     "name": "stderr",
     "output_type": "stream",
     "text": [
      "[nltk_data] Downloading package stopwords to\n",
      "[nltk_data]     C:\\Users\\91630\\AppData\\Roaming\\nltk_data...\n",
      "[nltk_data]   Unzipping corpora\\stopwords.zip.\n"
     ]
    },
    {
     "data": {
      "text/plain": [
       "True"
      ]
     },
     "execution_count": 36,
     "metadata": {},
     "output_type": "execute_result"
    }
   ],
   "source": [
    "nltk.download('stopwords')"
   ]
  },
  {
   "cell_type": "markdown",
   "id": "2c92f778",
   "metadata": {},
   "source": [
    "# Logistic Regression(Snowball Stemming) Method"
   ]
  },
  {
   "cell_type": "code",
   "execution_count": 18,
   "id": "69484821",
   "metadata": {},
   "outputs": [],
   "source": [
    "import nltk\n",
    "import numpy as np\n",
    "import pandas as pd\n",
    "from sklearn.feature_extraction.text import TfidfVectorizer\n",
    "from sklearn.model_selection import train_test_split\n",
    "from sklearn.linear_model import LogisticRegression\n",
    "from sklearn.metrics import accuracy_score, classification_report\n",
    "from nltk.stem import SnowballStemmer\n",
    "from nltk.corpus import twitter_samples\n",
    "from nltk.tokenize import word_tokenize"
   ]
  },
  {
   "cell_type": "code",
   "execution_count": 19,
   "id": "32d468b9",
   "metadata": {},
   "outputs": [
    {
     "name": "stderr",
     "output_type": "stream",
     "text": [
      "[nltk_data] Downloading package twitter_samples to\n",
      "[nltk_data]     C:\\Users\\91630\\AppData\\Roaming\\nltk_data...\n",
      "[nltk_data]   Package twitter_samples is already up-to-date!\n"
     ]
    },
    {
     "data": {
      "text/plain": [
       "True"
      ]
     },
     "execution_count": 19,
     "metadata": {},
     "output_type": "execute_result"
    }
   ],
   "source": [
    "nltk.download('twitter_samples')"
   ]
  },
  {
   "cell_type": "code",
   "execution_count": 20,
   "id": "39bac963",
   "metadata": {},
   "outputs": [],
   "source": [
    "positive_tweets = twitter_samples.strings('positive_tweets.json')\n",
    "negative_tweets = twitter_samples.strings('negative_tweets.json')"
   ]
  },
  {
   "cell_type": "code",
   "execution_count": 21,
   "id": "1dd248a1",
   "metadata": {},
   "outputs": [],
   "source": [
    "df_positive = pd.DataFrame({\"Sentiment\": \"Positive\", \"Tweet\": positive_tweets})\n",
    "df_negative = pd.DataFrame({\"Sentiment\": \"Negative\", \"Tweet\": negative_tweets})"
   ]
  },
  {
   "cell_type": "code",
   "execution_count": 22,
   "id": "1f3f2fb5",
   "metadata": {},
   "outputs": [],
   "source": [
    "df = pd.concat([df_positive, df_negative])"
   ]
  },
  {
   "cell_type": "code",
   "execution_count": 23,
   "id": "b2095ced",
   "metadata": {},
   "outputs": [
    {
     "name": "stdout",
     "output_type": "stream",
     "text": [
      "  Sentiment                                              Tweet\n",
      "0  Positive  #FollowFriday @France_Inte @PKuchly57 @Milipol...\n",
      "1  Positive  @Lamb2ja Hey James! How odd :/ Please call our...\n",
      "2  Positive  @DespiteOfficial we had a listen last night :)...\n",
      "3  Positive                               @97sides CONGRATS :)\n",
      "4  Positive  yeaaaah yippppy!!!  my accnt verified rqst has...\n",
      "5  Positive  @BhaktisBanter @PallaviRuhail This one is irre...\n",
      "6  Positive  We don't like to keep our lovely customers wai...\n",
      "7  Positive  @Impatientraider On second thought, there’s ju...\n",
      "8  Positive            Jgh , but we have to go to Bayan :D bye\n",
      "9  Positive  As an act of mischievousness, am calling the E...\n"
     ]
    }
   ],
   "source": [
    "print(df.head(10))"
   ]
  },
  {
   "cell_type": "code",
   "execution_count": 24,
   "id": "1fc57f93",
   "metadata": {},
   "outputs": [
    {
     "name": "stderr",
     "output_type": "stream",
     "text": [
      "[nltk_data] Downloading package stopwords to\n",
      "[nltk_data]     C:\\Users\\91630\\AppData\\Roaming\\nltk_data...\n",
      "[nltk_data]   Package stopwords is already up-to-date!\n"
     ]
    },
    {
     "data": {
      "text/plain": [
       "True"
      ]
     },
     "execution_count": 24,
     "metadata": {},
     "output_type": "execute_result"
    }
   ],
   "source": [
    "nltk.download('stopwords')"
   ]
  },
  {
   "cell_type": "code",
   "execution_count": 25,
   "id": "517f5da5",
   "metadata": {},
   "outputs": [],
   "source": [
    "tweets = positive_tweets + negative_tweets\n",
    "labels = np.append(np.ones(len(positive_tweets)), np.zeros(len(negative_tweets)))\n",
    "df = pd.DataFrame({'tweets': tweets, 'labels': labels}).sample(frac=1, random_state=42).reset_index(drop=True)"
   ]
  },
  {
   "cell_type": "code",
   "execution_count": 26,
   "id": "304f01da",
   "metadata": {},
   "outputs": [],
   "source": [
    "# Snowball Stemming and Text Preprocessing\n",
    "stemmer = SnowballStemmer('english')\n",
    "stop_words = set(stopwords.words('english'))\n",
    "\n",
    "def preprocess_text(text):\n",
    "    tokens = word_tokenize(text)\n",
    "    stemmed_tokens = [stemmer.stem(token) for token in tokens if token.isalnum()]\n",
    "    return ' '.join(stemmed_tokens)\n",
    "\n",
    "df['processed_tweets'] = df['tweets'].apply(preprocess_text)"
   ]
  },
  {
   "cell_type": "code",
   "execution_count": 27,
   "id": "f6237982",
   "metadata": {},
   "outputs": [
    {
     "name": "stdout",
     "output_type": "stream",
     "text": [
      "\n",
      "Processed Tweets:\n",
      "0     i love you how but you taecyeon2pm8 did you fe...\n",
      "1        mayusushita sonalp2591 armansushita8 thank guy\n",
      "2       your love o lord is better than life lt 3 https\n",
      "3     yasminyasir96 yeah but it will be better if we...\n",
      "4     ok good night i wish troy was ugli and i met h...\n",
      "5     scottybev i not surpris that sound hellish whi...\n",
      "6     dri hot scorch summer ff infocffm mediationmk ...\n",
      "7                                hanbin sad pray for me\n",
      "8                                         popol day too\n",
      "9     my song of the week is ducktail surreal exposu...\n",
      "10        i have no interest in speak to you ever again\n",
      "11    caylahhhh lmfao serious i ca rememb if i did h...\n",
      "12    should have taken a pic befor mrs wong confisc...\n",
      "13      kianeganwl aarww i wish i could be there too xx\n",
      "14    theprincesszooz but i see what you go at yes s...\n",
      "Name: processed_tweets, dtype: object\n"
     ]
    }
   ],
   "source": [
    "print(\"\\nProcessed Tweets:\")\n",
    "print(df['processed_tweets'].head(15))"
   ]
  },
  {
   "cell_type": "code",
   "execution_count": 28,
   "id": "edace141",
   "metadata": {},
   "outputs": [],
   "source": [
    "X_train, X_test, y_train, y_test = train_test_split(df['processed_tweets'], df['labels'], test_size=0.2, random_state=42)"
   ]
  },
  {
   "cell_type": "code",
   "execution_count": 29,
   "id": "26af1396",
   "metadata": {},
   "outputs": [
    {
     "name": "stdout",
     "output_type": "stream",
     "text": [
      "\n",
      "Sizes of Training and Testing Sets:\n",
      "Training set size: 8000\n",
      "Testing set size: 2000\n"
     ]
    }
   ],
   "source": [
    "print(\"\\nSizes of Training and Testing Sets:\")\n",
    "print(f\"Training set size: {len(X_train)}\")\n",
    "print(f\"Testing set size: {len(X_test)}\")"
   ]
  },
  {
   "cell_type": "code",
   "execution_count": 30,
   "id": "e37ea203",
   "metadata": {},
   "outputs": [],
   "source": [
    "vectorizer = TfidfVectorizer(max_features=5000)\n",
    "X_train_tfidf = vectorizer.fit_transform(X_train)\n",
    "X_test_tfidf = vectorizer.transform(X_test)"
   ]
  },
  {
   "cell_type": "code",
   "execution_count": 31,
   "id": "3b04abe5",
   "metadata": {},
   "outputs": [
    {
     "name": "stdout",
     "output_type": "stream",
     "text": [
      "\n",
      "Shape of TF-IDF Matrices:\n",
      "Training set shape: (8000, 5000)\n",
      "Testing set shape: (2000, 5000)\n"
     ]
    }
   ],
   "source": [
    "print(\"\\nShape of TF-IDF Matrices:\")\n",
    "print(f\"Training set shape: {X_train_tfidf.shape}\")\n",
    "print(f\"Testing set shape: {X_test_tfidf.shape}\")"
   ]
  },
  {
   "cell_type": "code",
   "execution_count": 32,
   "id": "35a65c3f",
   "metadata": {},
   "outputs": [
    {
     "data": {
      "text/plain": [
       "LogisticRegression(random_state=42)"
      ]
     },
     "execution_count": 32,
     "metadata": {},
     "output_type": "execute_result"
    }
   ],
   "source": [
    "model = LogisticRegression(random_state=42)\n",
    "model.fit(X_train_tfidf, y_train)"
   ]
  },
  {
   "cell_type": "code",
   "execution_count": 33,
   "id": "9435c67f",
   "metadata": {},
   "outputs": [],
   "source": [
    "predictions = model.predict(X_test_tfidf)"
   ]
  },
  {
   "cell_type": "code",
   "execution_count": 34,
   "id": "9a9b36b2",
   "metadata": {},
   "outputs": [],
   "source": [
    "accuracy = accuracy_score(y_test, predictions)\n",
    "report = classification_report(y_test, predictions)"
   ]
  },
  {
   "cell_type": "code",
   "execution_count": 35,
   "id": "766a44e6",
   "metadata": {},
   "outputs": [
    {
     "name": "stdout",
     "output_type": "stream",
     "text": [
      "Accuracy: 0.7735\n",
      "\n"
     ]
    }
   ],
   "source": [
    "print(f\"Accuracy: {accuracy:.4f}\\n\")"
   ]
  },
  {
   "cell_type": "code",
   "execution_count": 36,
   "id": "23857402",
   "metadata": {},
   "outputs": [
    {
     "name": "stdout",
     "output_type": "stream",
     "text": [
      "Classification Report:\n",
      "              precision    recall  f1-score   support\n",
      "\n",
      "         0.0       0.75      0.81      0.78       987\n",
      "         1.0       0.80      0.74      0.77      1013\n",
      "\n",
      "    accuracy                           0.77      2000\n",
      "   macro avg       0.78      0.77      0.77      2000\n",
      "weighted avg       0.78      0.77      0.77      2000\n",
      "\n"
     ]
    }
   ],
   "source": [
    "print(\"Classification Report:\")\n",
    "print(report)"
   ]
  },
  {
   "cell_type": "code",
   "execution_count": 60,
   "id": "ae47e063",
   "metadata": {},
   "outputs": [],
   "source": [
    "import matplotlib.pyplot as plt\n",
    "import seaborn as sns\n",
    "from sklearn.metrics import confusion_matrix"
   ]
  },
  {
   "cell_type": "code",
   "execution_count": 61,
   "id": "96a18d54",
   "metadata": {},
   "outputs": [
    {
     "data": {
      "image/png": "[encoded data removed]",
      "text/plain": [
       "<Figure size 800x600 with 2 Axes>"
      ]
     },
     "metadata": {},
     "output_type": "display_data"
    }
   ],
   "source": [
    "conf_mat = confusion_matrix(y_test, predictions)\n",
    "plt.figure(figsize=(8, 6))\n",
    "sns.heatmap(conf_mat, annot=True, fmt='d', cmap='Blues', xticklabels=['Negative', 'Positive'], yticklabels=['Negative', 'Positive'])\n",
    "plt.title('Confusion Matrix (Logistic Regression)')\n",
    "plt.xlabel('Predicted')\n",
    "plt.ylabel('Actual')\n",
    "plt.show()"
   ]
  },
  {
   "cell_type": "markdown",
   "id": "29ca46da",
   "metadata": {},
   "source": [
    "# Naive Bayes (Snowball Stemming) Method"
   ]
  },
  {
   "cell_type": "code",
   "execution_count": 1,
   "id": "49d48e45",
   "metadata": {},
   "outputs": [],
   "source": [
    "import nltk\n",
    "import numpy as np\n",
    "import pandas as pd\n",
    "from sklearn.feature_extraction.text import TfidfVectorizer\n",
    "from sklearn.model_selection import train_test_split\n",
    "from sklearn.naive_bayes import MultinomialNB\n",
    "from sklearn.metrics import accuracy_score, classification_report\n",
    "from nltk.stem import SnowballStemmer\n",
    "from nltk.corpus import stopwords\n",
    "from nltk.tokenize import word_tokenize\n",
    "from nltk import FreqDist\n",
    "from nltk.corpus import twitter_samples"
   ]
  },
  {
   "cell_type": "code",
   "execution_count": 2,
   "id": "b3df43c2",
   "metadata": {},
   "outputs": [
    {
     "name": "stderr",
     "output_type": "stream",
     "text": [
      "[nltk_data] Downloading package twitter_samples to\n",
      "[nltk_data]     C:\\Users\\91630\\AppData\\Roaming\\nltk_data...\n",
      "[nltk_data]   Package twitter_samples is already up-to-date!\n"
     ]
    },
    {
     "data": {
      "text/plain": [
       "True"
      ]
     },
     "execution_count": 2,
     "metadata": {},
     "output_type": "execute_result"
    }
   ],
   "source": [
    "nltk.download('twitter_samples')"
   ]
  },
  {
   "cell_type": "code",
   "execution_count": 3,
   "id": "85db4ded",
   "metadata": {},
   "outputs": [],
   "source": [
    "positive_tweets = twitter_samples.strings('positive_tweets.json')\n",
    "negative_tweets = twitter_samples.strings('negative_tweets.json')"
   ]
  },
  {
   "cell_type": "code",
   "execution_count": 4,
   "id": "73b8be5c",
   "metadata": {},
   "outputs": [],
   "source": [
    "tweets = positive_tweets + negative_tweets\n",
    "labels = np.append(np.ones(len(positive_tweets)), np.zeros(len(negative_tweets)))"
   ]
  },
  {
   "cell_type": "code",
   "execution_count": 5,
   "id": "7d248c48",
   "metadata": {},
   "outputs": [],
   "source": [
    "df = pd.DataFrame({'tweets': tweets, 'labels': labels})"
   ]
  },
  {
   "cell_type": "code",
   "execution_count": 6,
   "id": "e305d7be",
   "metadata": {},
   "outputs": [],
   "source": [
    "df = df.sample(frac=1, random_state=42).reset_index(drop=True)"
   ]
  },
  {
   "cell_type": "code",
   "execution_count": 7,
   "id": "c53cc6b9",
   "metadata": {},
   "outputs": [],
   "source": [
    "stemmer = SnowballStemmer('english')\n",
    "stop_words = set(stopwords.words('english'))\n",
    "\n",
    "def preprocess_text(text):\n",
    "    tokens = word_tokenize(text)\n",
    "    stemmed_tokens = [stemmer.stem(token) for token in tokens if token.isalnum()]\n",
    "    return ' '.join(stemmed_tokens)\n",
    "\n",
    "df['processed_tweets'] = df['tweets'].apply(preprocess_text)"
   ]
  },
  {
   "cell_type": "code",
   "execution_count": 40,
   "id": "38bd14c1",
   "metadata": {},
   "outputs": [
    {
     "name": "stdout",
     "output_type": "stream",
     "text": [
      "\n",
      "Processed Tweets:\n",
      "0     i love you how but you taecyeon2pm8 did you fe...\n",
      "1        mayusushita sonalp2591 armansushita8 thank guy\n",
      "2       your love o lord is better than life lt 3 https\n",
      "3     yasminyasir96 yeah but it will be better if we...\n",
      "4     ok good night i wish troy was ugli and i met h...\n",
      "5     scottybev i not surpris that sound hellish whi...\n",
      "6     dri hot scorch summer ff infocffm mediationmk ...\n",
      "7                                hanbin sad pray for me\n",
      "8                                         popol day too\n",
      "9     my song of the week is ducktail surreal exposu...\n",
      "10        i have no interest in speak to you ever again\n",
      "11    caylahhhh lmfao serious i ca rememb if i did h...\n",
      "12    should have taken a pic befor mrs wong confisc...\n",
      "13      kianeganwl aarww i wish i could be there too xx\n",
      "14    theprincesszooz but i see what you go at yes s...\n",
      "Name: processed_tweets, dtype: object\n"
     ]
    }
   ],
   "source": [
    "print(\"\\nProcessed Tweets:\")\n",
    "print(df['processed_tweets'].head(15))"
   ]
  },
  {
   "cell_type": "code",
   "execution_count": 8,
   "id": "74d181ba",
   "metadata": {},
   "outputs": [],
   "source": [
    "X_train, X_test, y_train, y_test = train_test_split(df['processed_tweets'], df['labels'], test_size=0.2, random_state=42)"
   ]
  },
  {
   "cell_type": "code",
   "execution_count": 9,
   "id": "e82ec9d8",
   "metadata": {},
   "outputs": [],
   "source": [
    "vectorizer = TfidfVectorizer(max_features=5000)\n",
    "X_train_tfidf = vectorizer.fit_transform(X_train)\n",
    "X_test_tfidf = vectorizer.transform(X_test)\n"
   ]
  },
  {
   "cell_type": "code",
   "execution_count": 10,
   "id": "b0af2b77",
   "metadata": {},
   "outputs": [
    {
     "data": {
      "text/plain": [
       "MultinomialNB()"
      ]
     },
     "execution_count": 10,
     "metadata": {},
     "output_type": "execute_result"
    }
   ],
   "source": [
    "nb_model = MultinomialNB()\n",
    "nb_model.fit(X_train_tfidf, y_train)"
   ]
  },
  {
   "cell_type": "code",
   "execution_count": 11,
   "id": "94833562",
   "metadata": {},
   "outputs": [],
   "source": [
    "nb_predictions = nb_model.predict(X_test_tfidf)"
   ]
  },
  {
   "cell_type": "code",
   "execution_count": 12,
   "id": "309dfe1e",
   "metadata": {},
   "outputs": [],
   "source": [
    "nb_accuracy = accuracy_score(y_test, nb_predictions)\n",
    "nb_report = classification_report(y_test, nb_predictions)"
   ]
  },
  {
   "cell_type": "code",
   "execution_count": 13,
   "id": "b746dc99",
   "metadata": {},
   "outputs": [
    {
     "name": "stdout",
     "output_type": "stream",
     "text": [
      "Accuracy (Naive Bayes): 0.7610\n",
      "\n",
      "Classification Report (Naive Bayes):\n",
      "              precision    recall  f1-score   support\n",
      "\n",
      "         0.0       0.73      0.81      0.77       987\n",
      "         1.0       0.80      0.71      0.75      1013\n",
      "\n",
      "    accuracy                           0.76      2000\n",
      "   macro avg       0.76      0.76      0.76      2000\n",
      "weighted avg       0.76      0.76      0.76      2000\n",
      "\n"
     ]
    }
   ],
   "source": [
    "print(f\"Accuracy (Naive Bayes): {nb_accuracy:.4f}\\n\")\n",
    "print(\"Classification Report (Naive Bayes):\")\n",
    "print(nb_report)"
   ]
  },
  {
   "cell_type": "code",
   "execution_count": 14,
   "id": "bd0de0ba",
   "metadata": {},
   "outputs": [],
   "source": [
    "import matplotlib.pyplot as plt\n",
    "import seaborn as sns\n",
    "from sklearn.metrics import confusion_matrix, roc_curve, auc"
   ]
  },
  {
   "cell_type": "code",
   "execution_count": 15,
   "id": "eac37245",
   "metadata": {},
   "outputs": [
    {
     "data": {
      "image/png": "[encoded data removed]",
      "text/plain": [
       "<Figure size 800x600 with 2 Axes>"
      ]
     },
     "metadata": {},
     "output_type": "display_data"
    }
   ],
   "source": [
    "#confusion matrix\n",
    "conf_mat_nb = confusion_matrix(y_test, nb_predictions)\n",
    "plt.figure(figsize=(8, 6))\n",
    "sns.heatmap(conf_mat_nb, annot=True, fmt='d', cmap='Blues', xticklabels=['Negative', 'Positive'], yticklabels=['Negative', 'Positive'])\n",
    "plt.title('Confusion Matrix (Naive Bayes)')\n",
    "plt.xlabel('Predicted')\n",
    "plt.ylabel('Actual')\n",
    "plt.show()"
   ]
  },
  {
   "cell_type": "markdown",
   "id": "c98c725e",
   "metadata": {},
   "source": [
    "# Random Forest Classifier(Snowball Stemming) Method"
   ]
  },
  {
   "cell_type": "code",
   "execution_count": 42,
   "id": "ccb7cc63",
   "metadata": {},
   "outputs": [],
   "source": [
    "import nltk\n",
    "import numpy as np\n",
    "import pandas as pd\n",
    "from sklearn.feature_extraction.text import TfidfVectorizer\n",
    "from sklearn.model_selection import train_test_split\n",
    "from sklearn.ensemble import RandomForestClassifier\n",
    "from sklearn.metrics import accuracy_score, classification_report\n",
    "from nltk.stem import SnowballStemmer\n",
    "from nltk.corpus import stopwords\n",
    "from nltk.tokenize import word_tokenize\n",
    "from nltk import FreqDist\n",
    "from nltk.corpus import twitter_samples"
   ]
  },
  {
   "cell_type": "code",
   "execution_count": 43,
   "id": "ce1d0281",
   "metadata": {},
   "outputs": [
    {
     "name": "stderr",
     "output_type": "stream",
     "text": [
      "[nltk_data] Downloading package twitter_samples to\n",
      "[nltk_data]     C:\\Users\\91630\\AppData\\Roaming\\nltk_data...\n",
      "[nltk_data]   Package twitter_samples is already up-to-date!\n"
     ]
    },
    {
     "data": {
      "text/plain": [
       "True"
      ]
     },
     "execution_count": 43,
     "metadata": {},
     "output_type": "execute_result"
    }
   ],
   "source": [
    "nltk.download('twitter_samples')"
   ]
  },
  {
   "cell_type": "code",
   "execution_count": 44,
   "id": "8297275f",
   "metadata": {},
   "outputs": [],
   "source": [
    "positive_tweets = twitter_samples.strings('positive_tweets.json')\n",
    "negative_tweets = twitter_samples.strings('negative_tweets.json')"
   ]
  },
  {
   "cell_type": "code",
   "execution_count": 45,
   "id": "b5db84c9",
   "metadata": {},
   "outputs": [],
   "source": [
    "tweets = positive_tweets + negative_tweets\n",
    "labels = np.append(np.ones(len(positive_tweets)), np.zeros(len(negative_tweets)))"
   ]
  },
  {
   "cell_type": "code",
   "execution_count": 46,
   "id": "af135891",
   "metadata": {},
   "outputs": [],
   "source": [
    "df = pd.DataFrame({'tweets': tweets, 'labels': labels})"
   ]
  },
  {
   "cell_type": "code",
   "execution_count": 47,
   "id": "0e2c2c00",
   "metadata": {},
   "outputs": [],
   "source": [
    "df = df.sample(frac=1, random_state=42).reset_index(drop=True)"
   ]
  },
  {
   "cell_type": "code",
   "execution_count": 48,
   "id": "65fd08c5",
   "metadata": {},
   "outputs": [],
   "source": [
    "stemmer = SnowballStemmer('english')\n",
    "stop_words = set(stopwords.words('english'))\n",
    "\n",
    "def preprocess_text(text):\n",
    "    tokens = word_tokenize(text)\n",
    "    stemmed_tokens = [stemmer.stem(token) for token in tokens if token.isalnum()]\n",
    "    return ' '.join(stemmed_tokens)\n",
    "\n",
    "df['processed_tweets'] = df['tweets'].apply(preprocess_text)"
   ]
  },
  {
   "cell_type": "code",
   "execution_count": 49,
   "id": "87a9469b",
   "metadata": {},
   "outputs": [
    {
     "name": "stdout",
     "output_type": "stream",
     "text": [
      "\n",
      "Processed Tweets:\n",
      "0     i love you how but you taecyeon2pm8 did you fe...\n",
      "1        mayusushita sonalp2591 armansushita8 thank guy\n",
      "2       your love o lord is better than life lt 3 https\n",
      "3     yasminyasir96 yeah but it will be better if we...\n",
      "4     ok good night i wish troy was ugli and i met h...\n",
      "5     scottybev i not surpris that sound hellish whi...\n",
      "6     dri hot scorch summer ff infocffm mediationmk ...\n",
      "7                                hanbin sad pray for me\n",
      "8                                         popol day too\n",
      "9     my song of the week is ducktail surreal exposu...\n",
      "10        i have no interest in speak to you ever again\n",
      "11    caylahhhh lmfao serious i ca rememb if i did h...\n",
      "12    should have taken a pic befor mrs wong confisc...\n",
      "13      kianeganwl aarww i wish i could be there too xx\n",
      "14    theprincesszooz but i see what you go at yes s...\n",
      "Name: processed_tweets, dtype: object\n"
     ]
    }
   ],
   "source": [
    "print(\"\\nProcessed Tweets:\")\n",
    "print(df['processed_tweets'].head(15))"
   ]
  },
  {
   "cell_type": "code",
   "execution_count": 51,
   "id": "b142907f",
   "metadata": {},
   "outputs": [],
   "source": [
    "X_train, X_test, y_train, y_test = train_test_split(df['processed_tweets'], df['labels'], test_size=0.2, random_state=42)"
   ]
  },
  {
   "cell_type": "code",
   "execution_count": 52,
   "id": "cf05ba4c",
   "metadata": {},
   "outputs": [],
   "source": [
    "vectorizer = TfidfVectorizer(max_features=5000)\n",
    "X_train_tfidf = vectorizer.fit_transform(X_train)\n",
    "X_test_tfidf = vectorizer.transform(X_test)"
   ]
  },
  {
   "cell_type": "code",
   "execution_count": 53,
   "id": "54a10abe",
   "metadata": {},
   "outputs": [
    {
     "data": {
      "text/plain": [
       "RandomForestClassifier(random_state=42)"
      ]
     },
     "execution_count": 53,
     "metadata": {},
     "output_type": "execute_result"
    }
   ],
   "source": [
    "rf_model = RandomForestClassifier(random_state=42)\n",
    "rf_model.fit(X_train_tfidf, y_train)"
   ]
  },
  {
   "cell_type": "code",
   "execution_count": 54,
   "id": "9796e302",
   "metadata": {},
   "outputs": [],
   "source": [
    "rf_predictions = rf_model.predict(X_test_tfidf)"
   ]
  },
  {
   "cell_type": "code",
   "execution_count": 55,
   "id": "b09da2e1",
   "metadata": {},
   "outputs": [],
   "source": [
    "rf_accuracy = accuracy_score(y_test, rf_predictions)\n",
    "rf_report = classification_report(y_test, rf_predictions)"
   ]
  },
  {
   "cell_type": "code",
   "execution_count": 56,
   "id": "9c8b73ad",
   "metadata": {},
   "outputs": [
    {
     "name": "stdout",
     "output_type": "stream",
     "text": [
      "Accuracy (Random Forest): 0.7625\n",
      "\n",
      "Classification Report (Random Forest):\n",
      "              precision    recall  f1-score   support\n",
      "\n",
      "         0.0       0.74      0.81      0.77       987\n",
      "         1.0       0.79      0.72      0.75      1013\n",
      "\n",
      "    accuracy                           0.76      2000\n",
      "   macro avg       0.77      0.76      0.76      2000\n",
      "weighted avg       0.77      0.76      0.76      2000\n",
      "\n"
     ]
    }
   ],
   "source": [
    "print(f\"Accuracy (Random Forest): {rf_accuracy:.4f}\\n\")\n",
    "print(\"Classification Report (Random Forest):\")\n",
    "print(rf_report)"
   ]
  },
  {
   "cell_type": "code",
   "execution_count": 57,
   "id": "3b25e3ae",
   "metadata": {},
   "outputs": [],
   "source": [
    "import matplotlib.pyplot as plt\n",
    "import seaborn as sns\n",
    "from sklearn.metrics import confusion_matrix"
   ]
  },
  {
   "cell_type": "code",
   "execution_count": 58,
   "id": "fdabe679",
   "metadata": {},
   "outputs": [
    {
     "data": {
      "image/png": "[encoded data removed]",
      "text/plain": [
       "<Figure size 800x600 with 2 Axes>"
      ]
     },
     "metadata": {},
     "output_type": "display_data"
    }
   ],
   "source": [
    "conf_mat_rf = confusion_matrix(y_test, rf_predictions)\n",
    "plt.figure(figsize=(8, 6))\n",
    "sns.heatmap(conf_mat_rf, annot=True, fmt='d', cmap='Blues', xticklabels=['Negative', 'Positive'], yticklabels=['Negative', 'Positive'])\n",
    "plt.title('Confusion Matrix (Random Forest)')\n",
    "plt.xlabel('Predicted')\n",
    "plt.ylabel('Actual')\n",
    "plt.show()"
   ]
  },
  {
   "cell_type": "code",
   "execution_count": null,
   "id": "d26ea937",
   "metadata": {},
   "outputs": [],
   "source": []
  }
 ],
 "metadata": {
  "kernelspec": {
   "display_name": "Python 3 (ipykernel)",
   "language": "python",
   "name": "python3"
  },
  "language_info": {
   "codemirror_mode": {
    "name": "ipython",
    "version": 3
   },
   "file_extension": ".py",
   "mimetype": "text/x-python",
   "name": "python",
   "nbconvert_exporter": "python",
   "pygments_lexer": "ipython3",
   "version": "3.9.13"
  }
 },
 "nbformat": 4,
 "nbformat_minor": 5
}
